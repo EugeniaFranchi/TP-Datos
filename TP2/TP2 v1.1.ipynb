{
 "cells": [
  {
   "cell_type": "code",
   "execution_count": 4,
   "metadata": {},
   "outputs": [],
   "source": [
    "import pandas as pd\n",
    "import datetime as dt"
   ]
  },
  {
   "cell_type": "code",
   "execution_count": 2,
   "metadata": {},
   "outputs": [
    {
     "name": "stderr",
     "output_type": "stream",
     "text": [
      "/home/aaron/anaconda3/lib/python3.6/site-packages/IPython/core/interactiveshell.py:2785: DtypeWarning: Columns (3,5,6,7,8,9,10,11,12,13,14,15,16,17,18,19,20,21,22) have mixed types. Specify dtype option on import or set low_memory=False.\n",
      "  interactivity=interactivity, compiler=compiler, result=result)\n"
     ]
    }
   ],
   "source": [
    "events = pd.read_csv('../fiuba-trocafone-tp2-final-set/events_up_to_01062018.csv')"
   ]
  },
  {
   "cell_type": "code",
   "execution_count": 3,
   "metadata": {},
   "outputs": [],
   "source": [
    "train_data = pd.read_csv('../fiuba-trocafone-tp2-final-set/labels_training_set.csv')"
   ]
  },
  {
   "cell_type": "code",
   "execution_count": 6,
   "metadata": {},
   "outputs": [],
   "source": [
    "events['week'] = pd.to_datetime(events['timestamp']).dt.week"
   ]
  },
  {
   "cell_type": "code",
   "execution_count": 7,
   "metadata": {},
   "outputs": [
    {
     "data": {
      "text/plain": [
       "21    540477\n",
       "20    495049\n",
       "22    408822\n",
       "19    166141\n",
       "18    118139\n",
       "17     96538\n",
       "16     67727\n",
       "15     65513\n",
       "14     60947\n",
       "13     55405\n",
       "12     55377\n",
       "11     40157\n",
       "10     31867\n",
       "9      28420\n",
       "8      21058\n",
       "5      16097\n",
       "7      15546\n",
       "6      15323\n",
       "3      12688\n",
       "2      12122\n",
       "4      11537\n",
       "1       6731\n",
       "Name: week, dtype: int64"
      ]
     },
     "execution_count": 7,
     "metadata": {},
     "output_type": "execute_result"
    }
   ],
   "source": [
    "events['week'].value_counts()"
   ]
  },
  {
   "cell_type": "code",
   "execution_count": 54,
   "metadata": {},
   "outputs": [],
   "source": [
    "#SEPARO EN PERIODOS DE DOS SEMANAS\n",
    "def periodo (week):\n",
    "    per= 0\n",
    "    if((week == 1)|(week == 2)):\n",
    "        per = 1\n",
    "    if((week == 3)|(week == 4)):\n",
    "        per = 2\n",
    "    if((week == 5)|(week == 6)):\n",
    "        per = 3\n",
    "    if((week == 7)|(week == 8)):\n",
    "        per = 4\n",
    "    if((week == 9)|(week == 10)):\n",
    "        per = 5\n",
    "    if((week == 11)|(week == 12)):\n",
    "        per = 6\n",
    "    if((week == 13)|(week == 14)):\n",
    "        per = 7\n",
    "    if((week == 15)|(week == 16)):\n",
    "        per = 8\n",
    "    if((week == 17)|(week == 18)):\n",
    "        per = 9\n",
    "    if((week == 19)|(week == 20)):\n",
    "        per = 10    \n",
    "    if((week == 21)|(week==22)):\n",
    "        per = 11\n",
    "    return per\n",
    "\n",
    "events['periodo'] = events['week'].apply(lambda week: periodo(week))"
   ]
  },
  {
   "cell_type": "code",
   "execution_count": 55,
   "metadata": {},
   "outputs": [
    {
     "data": {
      "text/plain": [
       "11    949299\n",
       "10    661190\n",
       "9     214677\n",
       "8     133240\n",
       "7     116352\n",
       "6      95534\n",
       "5      60287\n",
       "4      36604\n",
       "3      31420\n",
       "2      24225\n",
       "1      18853\n",
       "Name: periodo, dtype: int64"
      ]
     },
     "execution_count": 55,
     "metadata": {},
     "output_type": "execute_result"
    }
   ],
   "source": [
    "events['periodo'].value_counts()"
   ]
  },
  {
   "cell_type": "code",
   "execution_count": null,
   "metadata": {},
   "outputs": [],
   "source": []
  },
  {
   "cell_type": "markdown",
   "metadata": {},
   "source": [
    "# Feature: Cantidad de eventos por usuario "
   ]
  },
  {
   "cell_type": "markdown",
   "metadata": {},
   "source": [
    "Solo trabajo con alguno de los periodos"
   ]
  },
  {
   "cell_type": "code",
   "execution_count": 20,
   "metadata": {},
   "outputs": [],
   "source": [
    "cantidad_eventos10 = events10[['person','event','timestamp']]\n",
    "cantidad_eventos10 = cantidad_eventos1.groupby(['person','event']).count()\n",
    "cantidad_eventos10 = cantidad_eventos10.unstack().reset_index()"
   ]
  },
  {
   "cell_type": "code",
   "execution_count": 22,
   "metadata": {},
   "outputs": [],
   "source": [
    "cantidad_eventos10.fillna(value=0,inplace=True)"
   ]
  },
  {
   "cell_type": "code",
   "execution_count": null,
   "metadata": {},
   "outputs": [],
   "source": []
  }
 ],
 "metadata": {
  "kernelspec": {
   "display_name": "Python 3",
   "language": "python",
   "name": "python3"
  },
  "language_info": {
   "codemirror_mode": {
    "name": "ipython",
    "version": 3
   },
   "file_extension": ".py",
   "mimetype": "text/x-python",
   "name": "python",
   "nbconvert_exporter": "python",
   "pygments_lexer": "ipython3",
   "version": "3.6.5"
  }
 },
 "nbformat": 4,
 "nbformat_minor": 2
}
