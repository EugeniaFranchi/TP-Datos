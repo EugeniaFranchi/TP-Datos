{
 "cells": [
  {
   "cell_type": "code",
   "execution_count": 74,
   "metadata": {},
   "outputs": [],
   "source": [
    "import pandas as pd\n",
    "import xgboost as xgb\n",
    "import numpy as np\n",
    "import matplotlib.pyplot as plt\n",
    "from sklearn.cross_validation import train_test_split\n",
    "from sklearn.model_selection import GridSearchCV\n",
    "from sklearn.ensemble import AdaBoostClassifier\n"
   ]
  },
  {
   "cell_type": "code",
   "execution_count": 2,
   "metadata": {},
   "outputs": [],
   "source": [
    "train_data = pd.read_csv('train_data.csv',index_col = 0)\n",
    "test_kaggle = pd.read_csv('test_kaggle.csv',index_col=0)"
   ]
  },
  {
   "cell_type": "code",
   "execution_count": 3,
   "metadata": {},
   "outputs": [
    {
     "data": {
      "text/plain": [
       "Index(['index', 'person', 'label', 'periodo', 'ad campaign hit_mean',\n",
       "       'brand listing_mean', 'checkout_mean', 'conversion_mean',\n",
       "       'generic listing_mean', 'lead_mean', 'search engine hit_mean',\n",
       "       'searched products_mean', 'staticpage_mean', 'viewed product_mean',\n",
       "       'visited site_mean', 'Bom', 'Bom - Sem Touch ID', 'Excelente',\n",
       "       'Muito Bom', 'Novo', 'visitas_dom', 'visitas_lun', 'visitas_mar',\n",
       "       'visitas_mier', 'visitas_jue', 'visitas_vier', 'visitas_sab',\n",
       "       'conversiones_mean', 'vio_mas_de_5_veces', 'vio_color_mas_vendido',\n",
       "       'returns_por_persona_mean'],\n",
       "      dtype='object')"
      ]
     },
     "execution_count": 3,
     "metadata": {},
     "output_type": "execute_result"
    }
   ],
   "source": [
    "train_data.columns"
   ]
  },
  {
   "cell_type": "code",
   "execution_count": 69,
   "metadata": {},
   "outputs": [],
   "source": [
    "features = ['periodo', 'ad campaign hit_mean',\n",
    "       'brand listing_mean', 'checkout_mean', 'conversion_mean',\n",
    "       'generic listing_mean','search engine hit_mean',\n",
    "       'searched products_mean', 'viewed product_mean',\n",
    "       'visited site_mean', 'Bom', 'Bom - Sem Touch ID', 'Excelente',\n",
    "       'Muito Bom', 'visitas_dom', 'visitas_lun', 'visitas_mar',\n",
    "       'visitas_mier', 'visitas_jue', 'visitas_vier', 'visitas_sab',\n",
    "       'conversiones_mean','returns_por_persona_mean']"
   ]
  },
  {
   "cell_type": "code",
   "execution_count": 70,
   "metadata": {},
   "outputs": [],
   "source": [
    "X = train_data[features]\n",
    "Y = train_data['label']\n",
    "\n",
    "X_train,X_test,Y_train,Y_test = train_test_split(X,Y)"
   ]
  },
  {
   "cell_type": "code",
   "execution_count": 75,
   "metadata": {},
   "outputs": [],
   "source": [
    "params = {'n_estimators':[50,60,70,80,90,100],'objective':['binary:logistic','reg:linear']}"
   ]
  },
  {
   "cell_type": "code",
   "execution_count": 76,
   "metadata": {},
   "outputs": [],
   "source": [
    "cv = GridSearchCV(estimator=xgb.XGBRegressor(),param_grid=params,scoring=xgb.XGBRegressor.score,cv=5)"
   ]
  },
  {
   "cell_type": "code",
   "execution_count": 77,
   "metadata": {},
   "outputs": [],
   "source": [
    "dmatrix = xgb.DMatrix(data=train_data[features],label=train_data['label'],feature_names=features)"
   ]
  },
  {
   "cell_type": "code",
   "execution_count": 78,
   "metadata": {},
   "outputs": [
    {
     "data": {
      "text/plain": [
       "GridSearchCV(cv=5, error_score='raise',\n",
       "       estimator=XGBRegressor(base_score=0.5, booster='gbtree', colsample_bylevel=1,\n",
       "       colsample_bytree=1, gamma=0, learning_rate=0.1, max_delta_step=0,\n",
       "       max_depth=3, min_child_weight=1, missing=None, n_estimators=100,\n",
       "       n_jobs=1, nthread=None, objective='reg:linear', random_state=0,\n",
       "       reg_alpha=0, reg_lambda=1, scale_pos_weight=1, seed=None,\n",
       "       silent=True, subsample=1),\n",
       "       fit_params=None, iid=True, n_jobs=1,\n",
       "       param_grid={'n_estimators': [50, 60, 70, 80, 90, 100], 'objective': ['binary:logistic', 'reg:linear']},\n",
       "       pre_dispatch='2*n_jobs', refit=True, return_train_score='warn',\n",
       "       scoring=<function RegressorMixin.score at 0x7f8649712bf8>,\n",
       "       verbose=0)"
      ]
     },
     "execution_count": 78,
     "metadata": {},
     "output_type": "execute_result"
    }
   ],
   "source": [
    "cv.fit(X_train,Y_train)"
   ]
  },
  {
   "cell_type": "code",
   "execution_count": 90,
   "metadata": {},
   "outputs": [
    {
     "data": {
      "text/plain": [
       "{'n_estimators': 50, 'objective': 'binary:logistic'}"
      ]
     },
     "execution_count": 90,
     "metadata": {},
     "output_type": "execute_result"
    }
   ],
   "source": [
    "cv.best_params_"
   ]
  },
  {
   "cell_type": "code",
   "execution_count": 101,
   "metadata": {},
   "outputs": [],
   "source": [
    "xgbRegressor = cv.best_estimator_ \n",
    "\n",
    "\n",
    "#xgb.XGBRegressor(objective='binary:logistic',colsample_bytree=0.4,\n",
    "#                 gamma=0,\n",
    "#                 max_delta_step=0,\n",
    " #                learning_rate=0.01,\n",
    "  #               max_depth=6,\n",
    "    #             min_child_weight=1.0,\n",
    "    #             n_estimators=50,           \n",
    "   #              reg_alpha=0.75,\n",
    "  #               reg_lambda=0.45,\n",
    " #                subsample=0.75,\n",
    "#                 seed=42)\n"
   ]
  },
  {
   "cell_type": "code",
   "execution_count": 73,
   "metadata": {},
   "outputs": [
    {
     "name": "stdout",
     "output_type": "stream",
     "text": [
      "[01:14:43] /opt/conda/conda-bld/xgboost_1541449690605/work/src/tree/updater_prune.cc:74: tree pruning end, 1 roots, 90 extra nodes, 0 pruned nodes, max_depth=9\n",
      "[01:14:43] /opt/conda/conda-bld/xgboost_1541449690605/work/src/tree/updater_prune.cc:74: tree pruning end, 1 roots, 106 extra nodes, 0 pruned nodes, max_depth=10\n",
      "[01:14:43] /opt/conda/conda-bld/xgboost_1541449690605/work/src/tree/updater_prune.cc:74: tree pruning end, 1 roots, 60 extra nodes, 0 pruned nodes, max_depth=9\n",
      "[01:14:43] /opt/conda/conda-bld/xgboost_1541449690605/work/src/tree/updater_prune.cc:74: tree pruning end, 1 roots, 348 extra nodes, 0 pruned nodes, max_depth=10\n",
      "[01:14:43] /opt/conda/conda-bld/xgboost_1541449690605/work/src/tree/updater_prune.cc:74: tree pruning end, 1 roots, 272 extra nodes, 0 pruned nodes, max_depth=10\n",
      "[01:14:43] /opt/conda/conda-bld/xgboost_1541449690605/work/src/tree/updater_prune.cc:74: tree pruning end, 1 roots, 280 extra nodes, 0 pruned nodes, max_depth=10\n",
      "[01:14:43] /opt/conda/conda-bld/xgboost_1541449690605/work/src/tree/updater_prune.cc:74: tree pruning end, 1 roots, 328 extra nodes, 0 pruned nodes, max_depth=10\n",
      "[01:14:43] /opt/conda/conda-bld/xgboost_1541449690605/work/src/tree/updater_prune.cc:74: tree pruning end, 1 roots, 336 extra nodes, 0 pruned nodes, max_depth=10\n",
      "[01:14:43] /opt/conda/conda-bld/xgboost_1541449690605/work/src/tree/updater_prune.cc:74: tree pruning end, 1 roots, 216 extra nodes, 0 pruned nodes, max_depth=10\n",
      "[01:14:43] /opt/conda/conda-bld/xgboost_1541449690605/work/src/tree/updater_prune.cc:74: tree pruning end, 1 roots, 304 extra nodes, 0 pruned nodes, max_depth=10\n",
      "[01:14:43] /opt/conda/conda-bld/xgboost_1541449690605/work/src/tree/updater_prune.cc:74: tree pruning end, 1 roots, 344 extra nodes, 0 pruned nodes, max_depth=10\n",
      "[01:14:43] /opt/conda/conda-bld/xgboost_1541449690605/work/src/tree/updater_prune.cc:74: tree pruning end, 1 roots, 234 extra nodes, 0 pruned nodes, max_depth=10\n",
      "[01:14:43] /opt/conda/conda-bld/xgboost_1541449690605/work/src/tree/updater_prune.cc:74: tree pruning end, 1 roots, 362 extra nodes, 0 pruned nodes, max_depth=10\n",
      "[01:14:43] /opt/conda/conda-bld/xgboost_1541449690605/work/src/tree/updater_prune.cc:74: tree pruning end, 1 roots, 304 extra nodes, 0 pruned nodes, max_depth=10\n",
      "[01:14:44] /opt/conda/conda-bld/xgboost_1541449690605/work/src/tree/updater_prune.cc:74: tree pruning end, 1 roots, 298 extra nodes, 0 pruned nodes, max_depth=10\n",
      "[01:14:44] /opt/conda/conda-bld/xgboost_1541449690605/work/src/tree/updater_prune.cc:74: tree pruning end, 1 roots, 264 extra nodes, 0 pruned nodes, max_depth=10\n",
      "[01:14:44] /opt/conda/conda-bld/xgboost_1541449690605/work/src/tree/updater_prune.cc:74: tree pruning end, 1 roots, 372 extra nodes, 0 pruned nodes, max_depth=10\n",
      "[01:14:44] /opt/conda/conda-bld/xgboost_1541449690605/work/src/tree/updater_prune.cc:74: tree pruning end, 1 roots, 306 extra nodes, 0 pruned nodes, max_depth=10\n",
      "[01:14:44] /opt/conda/conda-bld/xgboost_1541449690605/work/src/tree/updater_prune.cc:74: tree pruning end, 1 roots, 220 extra nodes, 0 pruned nodes, max_depth=10\n",
      "[01:14:44] /opt/conda/conda-bld/xgboost_1541449690605/work/src/tree/updater_prune.cc:74: tree pruning end, 1 roots, 220 extra nodes, 0 pruned nodes, max_depth=10\n",
      "[01:14:44] /opt/conda/conda-bld/xgboost_1541449690605/work/src/tree/updater_prune.cc:74: tree pruning end, 1 roots, 308 extra nodes, 0 pruned nodes, max_depth=10\n",
      "[01:14:44] /opt/conda/conda-bld/xgboost_1541449690605/work/src/tree/updater_prune.cc:74: tree pruning end, 1 roots, 196 extra nodes, 0 pruned nodes, max_depth=10\n",
      "[01:14:44] /opt/conda/conda-bld/xgboost_1541449690605/work/src/tree/updater_prune.cc:74: tree pruning end, 1 roots, 298 extra nodes, 0 pruned nodes, max_depth=10\n",
      "[01:14:44] /opt/conda/conda-bld/xgboost_1541449690605/work/src/tree/updater_prune.cc:74: tree pruning end, 1 roots, 230 extra nodes, 0 pruned nodes, max_depth=10\n",
      "[01:14:44] /opt/conda/conda-bld/xgboost_1541449690605/work/src/tree/updater_prune.cc:74: tree pruning end, 1 roots, 230 extra nodes, 0 pruned nodes, max_depth=10\n",
      "[01:14:44] /opt/conda/conda-bld/xgboost_1541449690605/work/src/tree/updater_prune.cc:74: tree pruning end, 1 roots, 170 extra nodes, 0 pruned nodes, max_depth=10\n",
      "[01:14:44] /opt/conda/conda-bld/xgboost_1541449690605/work/src/tree/updater_prune.cc:74: tree pruning end, 1 roots, 168 extra nodes, 0 pruned nodes, max_depth=10\n",
      "[01:14:44] /opt/conda/conda-bld/xgboost_1541449690605/work/src/tree/updater_prune.cc:74: tree pruning end, 1 roots, 258 extra nodes, 0 pruned nodes, max_depth=10\n",
      "[01:14:44] /opt/conda/conda-bld/xgboost_1541449690605/work/src/tree/updater_prune.cc:74: tree pruning end, 1 roots, 218 extra nodes, 0 pruned nodes, max_depth=10\n",
      "[01:14:44] /opt/conda/conda-bld/xgboost_1541449690605/work/src/tree/updater_prune.cc:74: tree pruning end, 1 roots, 90 extra nodes, 0 pruned nodes, max_depth=10\n"
     ]
    },
    {
     "data": {
      "text/html": [
       "<div>\n",
       "<style scoped>\n",
       "    .dataframe tbody tr th:only-of-type {\n",
       "        vertical-align: middle;\n",
       "    }\n",
       "\n",
       "    .dataframe tbody tr th {\n",
       "        vertical-align: top;\n",
       "    }\n",
       "\n",
       "    .dataframe thead th {\n",
       "        text-align: right;\n",
       "    }\n",
       "</style>\n",
       "<table border=\"1\" class=\"dataframe\">\n",
       "  <thead>\n",
       "    <tr style=\"text-align: right;\">\n",
       "      <th></th>\n",
       "      <th>train-error-mean</th>\n",
       "      <th>train-error-std</th>\n",
       "      <th>test-error-mean</th>\n",
       "      <th>test-error-std</th>\n",
       "    </tr>\n",
       "  </thead>\n",
       "  <tbody>\n",
       "    <tr>\n",
       "      <th>0</th>\n",
       "      <td>0.048084</td>\n",
       "      <td>0.001230</td>\n",
       "      <td>0.054033</td>\n",
       "      <td>0.002599</td>\n",
       "    </tr>\n",
       "    <tr>\n",
       "      <th>1</th>\n",
       "      <td>0.045972</td>\n",
       "      <td>0.000576</td>\n",
       "      <td>0.055063</td>\n",
       "      <td>0.002536</td>\n",
       "    </tr>\n",
       "    <tr>\n",
       "      <th>2</th>\n",
       "      <td>0.042856</td>\n",
       "      <td>0.002171</td>\n",
       "      <td>0.058721</td>\n",
       "      <td>0.007204</td>\n",
       "    </tr>\n",
       "    <tr>\n",
       "      <th>3</th>\n",
       "      <td>0.036108</td>\n",
       "      <td>0.001130</td>\n",
       "      <td>0.059751</td>\n",
       "      <td>0.003175</td>\n",
       "    </tr>\n",
       "    <tr>\n",
       "      <th>4</th>\n",
       "      <td>0.029669</td>\n",
       "      <td>0.001742</td>\n",
       "      <td>0.060935</td>\n",
       "      <td>0.003803</td>\n",
       "    </tr>\n",
       "    <tr>\n",
       "      <th>5</th>\n",
       "      <td>0.024312</td>\n",
       "      <td>0.000811</td>\n",
       "      <td>0.062944</td>\n",
       "      <td>0.004120</td>\n",
       "    </tr>\n",
       "    <tr>\n",
       "      <th>6</th>\n",
       "      <td>0.020887</td>\n",
       "      <td>0.000906</td>\n",
       "      <td>0.063408</td>\n",
       "      <td>0.004455</td>\n",
       "    </tr>\n",
       "    <tr>\n",
       "      <th>7</th>\n",
       "      <td>0.017668</td>\n",
       "      <td>0.000788</td>\n",
       "      <td>0.062532</td>\n",
       "      <td>0.003940</td>\n",
       "    </tr>\n",
       "    <tr>\n",
       "      <th>8</th>\n",
       "      <td>0.015968</td>\n",
       "      <td>0.001764</td>\n",
       "      <td>0.062481</td>\n",
       "      <td>0.004630</td>\n",
       "    </tr>\n",
       "    <tr>\n",
       "      <th>9</th>\n",
       "      <td>0.014500</td>\n",
       "      <td>0.002253</td>\n",
       "      <td>0.062738</td>\n",
       "      <td>0.003264</td>\n",
       "    </tr>\n",
       "  </tbody>\n",
       "</table>\n",
       "</div>"
      ],
      "text/plain": [
       "   train-error-mean  train-error-std  test-error-mean  test-error-std\n",
       "0          0.048084         0.001230         0.054033        0.002599\n",
       "1          0.045972         0.000576         0.055063        0.002536\n",
       "2          0.042856         0.002171         0.058721        0.007204\n",
       "3          0.036108         0.001130         0.059751        0.003175\n",
       "4          0.029669         0.001742         0.060935        0.003803\n",
       "5          0.024312         0.000811         0.062944        0.004120\n",
       "6          0.020887         0.000906         0.063408        0.004455\n",
       "7          0.017668         0.000788         0.062532        0.003940\n",
       "8          0.015968         0.001764         0.062481        0.004630\n",
       "9          0.014500         0.002253         0.062738        0.003264"
      ]
     },
     "execution_count": 73,
     "metadata": {},
     "output_type": "execute_result"
    }
   ],
   "source": [
    "#params = {'objective':'binary:logistic','colsample_bytree': 0.5, 'learning_rate': 1.0,\n",
    "                #'max_depth' : 10, 'n_estimators' : 20,'seed':123}\n",
    "\n",
    "#xgb.cv(dtrain=dmatrix,params=params)"
   ]
  },
  {
   "cell_type": "code",
   "execution_count": 102,
   "metadata": {},
   "outputs": [
    {
     "data": {
      "text/plain": [
       "XGBRegressor(base_score=0.5, booster='gbtree', colsample_bylevel=1,\n",
       "       colsample_bytree=1, gamma=0, learning_rate=0.1, max_delta_step=0,\n",
       "       max_depth=3, min_child_weight=1, missing=None, n_estimators=50,\n",
       "       n_jobs=1, nthread=None, objective='binary:logistic', random_state=0,\n",
       "       reg_alpha=0, reg_lambda=1, scale_pos_weight=1, seed=None,\n",
       "       silent=True, subsample=1)"
      ]
     },
     "execution_count": 102,
     "metadata": {},
     "output_type": "execute_result"
    }
   ],
   "source": [
    "xgbRegressor.fit(X_train,Y_train)"
   ]
  },
  {
   "cell_type": "code",
   "execution_count": 103,
   "metadata": {},
   "outputs": [
    {
     "data": {
      "text/plain": [
       "0.10461581634567652"
      ]
     },
     "execution_count": 103,
     "metadata": {},
     "output_type": "execute_result"
    }
   ],
   "source": [
    "xgbRegressor.score(X_test,Y_test)"
   ]
  },
  {
   "cell_type": "code",
   "execution_count": 104,
   "metadata": {},
   "outputs": [
    {
     "name": "stdout",
     "output_type": "stream",
     "text": [
      "[01:28:32] /opt/conda/conda-bld/xgboost_1541449690605/work/src/objective/objective.cc:21: Objective candidate: binary:hinge\n",
      "[01:28:32] /opt/conda/conda-bld/xgboost_1541449690605/work/src/objective/objective.cc:21: Objective candidate: multi:softmax\n",
      "[01:28:32] /opt/conda/conda-bld/xgboost_1541449690605/work/src/objective/objective.cc:21: Objective candidate: multi:softprob\n",
      "[01:28:32] /opt/conda/conda-bld/xgboost_1541449690605/work/src/objective/objective.cc:21: Objective candidate: rank:pairwise\n",
      "[01:28:32] /opt/conda/conda-bld/xgboost_1541449690605/work/src/objective/objective.cc:21: Objective candidate: rank:ndcg\n",
      "[01:28:32] /opt/conda/conda-bld/xgboost_1541449690605/work/src/objective/objective.cc:21: Objective candidate: rank:map\n",
      "[01:28:32] /opt/conda/conda-bld/xgboost_1541449690605/work/src/objective/objective.cc:21: Objective candidate: reg:linear\n",
      "[01:28:32] /opt/conda/conda-bld/xgboost_1541449690605/work/src/objective/objective.cc:21: Objective candidate: reg:logistic\n",
      "[01:28:32] /opt/conda/conda-bld/xgboost_1541449690605/work/src/objective/objective.cc:21: Objective candidate: binary:logistic\n",
      "[01:28:32] /opt/conda/conda-bld/xgboost_1541449690605/work/src/objective/objective.cc:21: Objective candidate: binary:logitraw\n",
      "[01:28:32] /opt/conda/conda-bld/xgboost_1541449690605/work/src/objective/objective.cc:21: Objective candidate: count:poisson\n",
      "[01:28:32] /opt/conda/conda-bld/xgboost_1541449690605/work/src/objective/objective.cc:21: Objective candidate: survival:cox\n",
      "[01:28:32] /opt/conda/conda-bld/xgboost_1541449690605/work/src/objective/objective.cc:21: Objective candidate: reg:gamma\n",
      "[01:28:32] /opt/conda/conda-bld/xgboost_1541449690605/work/src/objective/objective.cc:21: Objective candidate: reg:tweedie\n",
      "[01:28:32] /opt/conda/conda-bld/xgboost_1541449690605/work/src/objective/objective.cc:21: Objective candidate: gpu:reg:linear\n",
      "[01:28:32] /opt/conda/conda-bld/xgboost_1541449690605/work/src/objective/objective.cc:21: Objective candidate: gpu:reg:logistic\n",
      "[01:28:32] /opt/conda/conda-bld/xgboost_1541449690605/work/src/objective/objective.cc:21: Objective candidate: gpu:binary:logistic\n",
      "[01:28:32] /opt/conda/conda-bld/xgboost_1541449690605/work/src/objective/objective.cc:21: Objective candidate: gpu:binary:logitraw\n"
     ]
    },
    {
     "ename": "XGBoostError",
     "evalue": "b\"[01:28:32] /opt/conda/conda-bld/xgboost_1541449690605/work/src/objective/objective.cc:23: Unknown objective function ['binary:logistic', 'reg:linear']\\n\\nStack trace returned 10 entries:\\n[bt] (0) /home/aaron/anaconda3/lib/libxgboost.so(+0x9a30b) [0x7f864149a30b]\\n[bt] (1) /home/aaron/anaconda3/lib/libxgboost.so(xgboost::ObjFunction::Create(std::__cxx11::basic_string<char, std::char_traits<char>, std::allocator<char> > const&)+0x8a9) [0x7f86415a0fb9]\\n[bt] (2) /home/aaron/anaconda3/lib/libxgboost.so(+0x13a402) [0x7f864153a402]\\n[bt] (3) /home/aaron/anaconda3/lib/libxgboost.so(XGBoosterUpdateOneIter+0x7a) [0x7f864148e02a]\\n[bt] (4) /home/aaron/anaconda3/lib/python3.6/lib-dynload/../../libffi.so.6(ffi_call_unix64+0x4c) [0x7f867ebd8ec0]\\n[bt] (5) /home/aaron/anaconda3/lib/python3.6/lib-dynload/../../libffi.so.6(ffi_call+0x22d) [0x7f867ebd887d]\\n[bt] (6) /home/aaron/anaconda3/lib/python3.6/lib-dynload/_ctypes.cpython-36m-x86_64-linux-gnu.so(_ctypes_callproc+0x2ce) [0x7f867edede2e]\\n[bt] (7) /home/aaron/anaconda3/lib/python3.6/lib-dynload/_ctypes.cpython-36m-x86_64-linux-gnu.so(+0x12865) [0x7f867edee865]\\n[bt] (8) /home/aaron/anaconda3/bin/python(_PyObject_FastCallDict+0x8b) [0x55fbfac68d7b]\\n[bt] (9) /home/aaron/anaconda3/bin/python(+0x19e7ce) [0x55fbfacf87ce]\\n\\n\"",
     "output_type": "error",
     "traceback": [
      "\u001b[0;31m---------------------------------------------------------------------------\u001b[0m",
      "\u001b[0;31mXGBoostError\u001b[0m                              Traceback (most recent call last)",
      "\u001b[0;32m<ipython-input-104-be218c84673b>\u001b[0m in \u001b[0;36m<module>\u001b[0;34m()\u001b[0m\n\u001b[0;32m----> 1\u001b[0;31m \u001b[0mxg_reg\u001b[0m \u001b[0;34m=\u001b[0m \u001b[0mxgb\u001b[0m\u001b[0;34m.\u001b[0m\u001b[0mtrain\u001b[0m\u001b[0;34m(\u001b[0m\u001b[0mparams\u001b[0m\u001b[0;34m=\u001b[0m\u001b[0mparams\u001b[0m\u001b[0;34m,\u001b[0m \u001b[0mdtrain\u001b[0m\u001b[0;34m=\u001b[0m\u001b[0mdmatrix\u001b[0m\u001b[0;34m,\u001b[0m \u001b[0mnum_boost_round\u001b[0m\u001b[0;34m=\u001b[0m\u001b[0;36m10\u001b[0m\u001b[0;34m)\u001b[0m\u001b[0;34m\u001b[0m\u001b[0m\n\u001b[0m",
      "\u001b[0;32m~/anaconda3/lib/python3.6/site-packages/xgboost/training.py\u001b[0m in \u001b[0;36mtrain\u001b[0;34m(params, dtrain, num_boost_round, evals, obj, feval, maximize, early_stopping_rounds, evals_result, verbose_eval, xgb_model, callbacks, learning_rates)\u001b[0m\n\u001b[1;32m    208\u001b[0m                            \u001b[0mevals\u001b[0m\u001b[0;34m=\u001b[0m\u001b[0mevals\u001b[0m\u001b[0;34m,\u001b[0m\u001b[0;34m\u001b[0m\u001b[0m\n\u001b[1;32m    209\u001b[0m                            \u001b[0mobj\u001b[0m\u001b[0;34m=\u001b[0m\u001b[0mobj\u001b[0m\u001b[0;34m,\u001b[0m \u001b[0mfeval\u001b[0m\u001b[0;34m=\u001b[0m\u001b[0mfeval\u001b[0m\u001b[0;34m,\u001b[0m\u001b[0;34m\u001b[0m\u001b[0m\n\u001b[0;32m--> 210\u001b[0;31m                            xgb_model=xgb_model, callbacks=callbacks)\n\u001b[0m\u001b[1;32m    211\u001b[0m \u001b[0;34m\u001b[0m\u001b[0m\n\u001b[1;32m    212\u001b[0m \u001b[0;34m\u001b[0m\u001b[0m\n",
      "\u001b[0;32m~/anaconda3/lib/python3.6/site-packages/xgboost/training.py\u001b[0m in \u001b[0;36m_train_internal\u001b[0;34m(params, dtrain, num_boost_round, evals, obj, feval, xgb_model, callbacks)\u001b[0m\n\u001b[1;32m     72\u001b[0m         \u001b[0;31m# Skip the first update if it is a recovery step.\u001b[0m\u001b[0;34m\u001b[0m\u001b[0;34m\u001b[0m\u001b[0m\n\u001b[1;32m     73\u001b[0m         \u001b[0;32mif\u001b[0m \u001b[0mversion\u001b[0m \u001b[0;34m%\u001b[0m \u001b[0;36m2\u001b[0m \u001b[0;34m==\u001b[0m \u001b[0;36m0\u001b[0m\u001b[0;34m:\u001b[0m\u001b[0;34m\u001b[0m\u001b[0m\n\u001b[0;32m---> 74\u001b[0;31m             \u001b[0mbst\u001b[0m\u001b[0;34m.\u001b[0m\u001b[0mupdate\u001b[0m\u001b[0;34m(\u001b[0m\u001b[0mdtrain\u001b[0m\u001b[0;34m,\u001b[0m \u001b[0mi\u001b[0m\u001b[0;34m,\u001b[0m \u001b[0mobj\u001b[0m\u001b[0;34m)\u001b[0m\u001b[0;34m\u001b[0m\u001b[0m\n\u001b[0m\u001b[1;32m     75\u001b[0m             \u001b[0mbst\u001b[0m\u001b[0;34m.\u001b[0m\u001b[0msave_rabit_checkpoint\u001b[0m\u001b[0;34m(\u001b[0m\u001b[0;34m)\u001b[0m\u001b[0;34m\u001b[0m\u001b[0m\n\u001b[1;32m     76\u001b[0m             \u001b[0mversion\u001b[0m \u001b[0;34m+=\u001b[0m \u001b[0;36m1\u001b[0m\u001b[0;34m\u001b[0m\u001b[0m\n",
      "\u001b[0;32m~/anaconda3/lib/python3.6/site-packages/xgboost/core.py\u001b[0m in \u001b[0;36mupdate\u001b[0;34m(self, dtrain, iteration, fobj)\u001b[0m\n\u001b[1;32m   1019\u001b[0m         \u001b[0;32mif\u001b[0m \u001b[0mfobj\u001b[0m \u001b[0;32mis\u001b[0m \u001b[0;32mNone\u001b[0m\u001b[0;34m:\u001b[0m\u001b[0;34m\u001b[0m\u001b[0m\n\u001b[1;32m   1020\u001b[0m             _check_call(_LIB.XGBoosterUpdateOneIter(self.handle, ctypes.c_int(iteration),\n\u001b[0;32m-> 1021\u001b[0;31m                                                     dtrain.handle))\n\u001b[0m\u001b[1;32m   1022\u001b[0m         \u001b[0;32melse\u001b[0m\u001b[0;34m:\u001b[0m\u001b[0;34m\u001b[0m\u001b[0m\n\u001b[1;32m   1023\u001b[0m             \u001b[0mpred\u001b[0m \u001b[0;34m=\u001b[0m \u001b[0mself\u001b[0m\u001b[0;34m.\u001b[0m\u001b[0mpredict\u001b[0m\u001b[0;34m(\u001b[0m\u001b[0mdtrain\u001b[0m\u001b[0;34m)\u001b[0m\u001b[0;34m\u001b[0m\u001b[0m\n",
      "\u001b[0;32m~/anaconda3/lib/python3.6/site-packages/xgboost/core.py\u001b[0m in \u001b[0;36m_check_call\u001b[0;34m(ret)\u001b[0m\n\u001b[1;32m    149\u001b[0m     \"\"\"\n\u001b[1;32m    150\u001b[0m     \u001b[0;32mif\u001b[0m \u001b[0mret\u001b[0m \u001b[0;34m!=\u001b[0m \u001b[0;36m0\u001b[0m\u001b[0;34m:\u001b[0m\u001b[0;34m\u001b[0m\u001b[0m\n\u001b[0;32m--> 151\u001b[0;31m         \u001b[0;32mraise\u001b[0m \u001b[0mXGBoostError\u001b[0m\u001b[0;34m(\u001b[0m\u001b[0m_LIB\u001b[0m\u001b[0;34m.\u001b[0m\u001b[0mXGBGetLastError\u001b[0m\u001b[0;34m(\u001b[0m\u001b[0;34m)\u001b[0m\u001b[0;34m)\u001b[0m\u001b[0;34m\u001b[0m\u001b[0m\n\u001b[0m\u001b[1;32m    152\u001b[0m \u001b[0;34m\u001b[0m\u001b[0m\n\u001b[1;32m    153\u001b[0m \u001b[0;34m\u001b[0m\u001b[0m\n",
      "\u001b[0;31mXGBoostError\u001b[0m: b\"[01:28:32] /opt/conda/conda-bld/xgboost_1541449690605/work/src/objective/objective.cc:23: Unknown objective function ['binary:logistic', 'reg:linear']\\n\\nStack trace returned 10 entries:\\n[bt] (0) /home/aaron/anaconda3/lib/libxgboost.so(+0x9a30b) [0x7f864149a30b]\\n[bt] (1) /home/aaron/anaconda3/lib/libxgboost.so(xgboost::ObjFunction::Create(std::__cxx11::basic_string<char, std::char_traits<char>, std::allocator<char> > const&)+0x8a9) [0x7f86415a0fb9]\\n[bt] (2) /home/aaron/anaconda3/lib/libxgboost.so(+0x13a402) [0x7f864153a402]\\n[bt] (3) /home/aaron/anaconda3/lib/libxgboost.so(XGBoosterUpdateOneIter+0x7a) [0x7f864148e02a]\\n[bt] (4) /home/aaron/anaconda3/lib/python3.6/lib-dynload/../../libffi.so.6(ffi_call_unix64+0x4c) [0x7f867ebd8ec0]\\n[bt] (5) /home/aaron/anaconda3/lib/python3.6/lib-dynload/../../libffi.so.6(ffi_call+0x22d) [0x7f867ebd887d]\\n[bt] (6) /home/aaron/anaconda3/lib/python3.6/lib-dynload/_ctypes.cpython-36m-x86_64-linux-gnu.so(_ctypes_callproc+0x2ce) [0x7f867edede2e]\\n[bt] (7) /home/aaron/anaconda3/lib/python3.6/lib-dynload/_ctypes.cpython-36m-x86_64-linux-gnu.so(+0x12865) [0x7f867edee865]\\n[bt] (8) /home/aaron/anaconda3/bin/python(_PyObject_FastCallDict+0x8b) [0x55fbfac68d7b]\\n[bt] (9) /home/aaron/anaconda3/bin/python(+0x19e7ce) [0x55fbfacf87ce]\\n\\n\""
     ]
    }
   ],
   "source": [
    "xg_reg = xgb.train(params=params, dtrain=dmatrix, num_boost_round=10)"
   ]
  },
  {
   "cell_type": "code",
   "execution_count": 105,
   "metadata": {},
   "outputs": [
    {
     "data": {
      "image/png": "[encoded data removed]",
      "text/plain": [
       "<Figure size 720x720 with 1 Axes>"
      ]
     },
     "metadata": {},
     "output_type": "display_data"
    }
   ],
   "source": [
    "xgb.plot_importance(xg_reg)\n",
    "plt.rcParams['figure.figsize'] = [10, 10]\n",
    "plt.show()"
   ]
  },
  {
   "cell_type": "markdown",
   "metadata": {},
   "source": [
    "# Test Kaggle"
   ]
  },
  {
   "cell_type": "code",
   "execution_count": 106,
   "metadata": {},
   "outputs": [],
   "source": [
    "test_kaggle['prediction'] = xgbRegressor.predict(test_kaggle[features])"
   ]
  },
  {
   "cell_type": "code",
   "execution_count": 107,
   "metadata": {},
   "outputs": [],
   "source": [
    "submit_kaggle = pd.DataFrame({'person':test_kaggle['person'],'label':test_kaggle['prediction']})"
   ]
  },
  {
   "cell_type": "code",
   "execution_count": 108,
   "metadata": {},
   "outputs": [],
   "source": [
    "submit_kaggle['label'] = submit_kaggle['label'].transform(lambda x: 0.0 if x < 0.0 else x)"
   ]
  },
  {
   "cell_type": "code",
   "execution_count": 109,
   "metadata": {},
   "outputs": [],
   "source": [
    "submit_kaggle.reset_index(inplace = True)\n",
    "submit_kaggle.drop(columns='index',inplace=True)\n",
    "submit_kaggle.set_index(keys='person',inplace=True)"
   ]
  },
  {
   "cell_type": "code",
   "execution_count": 110,
   "metadata": {},
   "outputs": [],
   "source": [
    "submit_kaggle.to_csv('submit_kaggle.csv')"
   ]
  },
  {
   "cell_type": "code",
   "execution_count": null,
   "metadata": {},
   "outputs": [],
   "source": []
  }
 ],
 "metadata": {
  "kernelspec": {
   "display_name": "Python 3",
   "language": "python",
   "name": "python3"
  },
  "language_info": {
   "codemirror_mode": {
    "name": "ipython",
    "version": 3
   },
   "file_extension": ".py",
   "mimetype": "text/x-python",
   "name": "python",
   "nbconvert_exporter": "python",
   "pygments_lexer": "ipython3",
   "version": "3.6.5"
  }
 },
 "nbformat": 4,
 "nbformat_minor": 2
}
